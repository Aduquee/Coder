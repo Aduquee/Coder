{
  "nbformat": 4,
  "nbformat_minor": 0,
  "metadata": {
    "colab": {
      "provenance": [],
      "authorship_tag": "ABX9TyNomM5knPw8E+1mEVM3x4uC",
      "include_colab_link": true
    },
    "kernelspec": {
      "name": "python3",
      "display_name": "Python 3"
    },
    "language_info": {
      "name": "python"
    }
  },
  "cells": [
    {
      "cell_type": "markdown",
      "metadata": {
        "id": "view-in-github",
        "colab_type": "text"
      },
      "source": [
        "<a href=\"https://colab.research.google.com/github/Aduquee/Coder/blob/main/data_Storytelling_Duque.ipynb\" target=\"_parent\"><img src=\"https://colab.research.google.com/assets/colab-badge.svg\" alt=\"Open In Colab\"/></a>"
      ]
    },
    {
      "cell_type": "markdown",
      "source": [
        "**Homicidios en Washington**"
      ],
      "metadata": {
        "id": "etdrdmtk0s_2"
      }
    },
    {
      "cell_type": "markdown",
      "source": [
        "En el corazón de los Estados Unidos, Washington, D.C. se ha convertido en un centro neurálgico no solo de la política y la cultura, sino también de la preocupación pública por la seguridad y la justicia. Como cualquier área urbana, Washington enfrenta desafíos significativos en lo que respecta a la violencia homicida. En este análisis, exploraremos tres aspectos clave que arrojan luz sobre la situación de los homicidios en la capital de la nación: la demografía de las víctimas, la tasa de resolución de casos y la distribución geográfica de los crímenes.\n",
        "\n",
        "Una tendencia preocupante se destaca al analizar la demografía de las víctimas de homicidios en Washington. Dentro de esta población vulnerable, el rango etario que supera la media es el de 25 a 34 años. Este hallazgo sugiere que los adultos jóvenes están particularmente en riesgo de perder la vida debido a la violencia homicida. Esta franja de edad se encuentra en una etapa crucial de la vida, donde las oportunidades de desarrollo personal y profesional deberían florecer. Sin embargo, estos años también son un período de posibles conflictos y desafíos, lo que hace que esta cohorte sea especialmente susceptible a los peligros de la criminalidad violenta.\n",
        "\n",
        "Otro aspecto intrigante es el equilibrio entre arrestos y casos sin resolver. En el análisis de homicidios, se encontró que casi la misma proporción de crímenes resulta en arrestos que en casos que quedan impunes. Esta paridad plantea cuestiones fundamentales sobre la eficacia de la aplicación de la ley y el sistema de justicia en Washington. Si bien es alentador ver que una parte significativa de los homicidios resulta en arrestos, la persistencia de casos no resueltos plantea desafíos considerables para las fuerzas del orden y destaca la necesidad de mejorar las investigaciones y recursos para resolver estos crímenes.\n",
        "\n",
        "La distribución geográfica de los homicidios en Washington también ofrece información valiosa. Mientras que la capital es el epicentro de la toma de decisiones políticas, otros estados de la unión también enfrentan problemas de violencia homicida. En particular, California, Texas e Illinois emergen como los Estados en donde se perpetran la mayor cantidad de crímenes de este tipo. Esta tendencia podría atribuirse a una serie de factores, como la densidad de población, la presencia de áreas urbanas significativas y las dinámicas socioeconómicas.\n",
        "\n",
        "La situación de los homicidios en Washington, como en muchas otras áreas metropolitanas de Estados Unidos, es un desafío multifacético. La demografía de las víctimas, con un rango etario que supera la media en riesgo, subraya la necesidad de programas de prevención y apoyo a adultos jóvenes en situaciones vulnerables. La paridad entre arrestos y casos sin resolver plantea preguntas sobre la eficacia de las investigaciones criminales y la justicia en la capital. Y, finalmente, la distribución geográfica de los homicidios destaca que la violencia homicida no es un problema exclusivo de Washington, sino un desafío compartido en varios Estados de la unión.\n",
        "\n",
        "Este análisis pone de relieve la importancia de abordar la violencia homicida desde múltiples ángulos, desde la prevención hasta la investigación y la justicia. Como en cualquier sociedad, la seguridad y el bienestar de sus ciudadanos son cruciales, y comprender las complejidades de los homicidios es un primer paso para tomar medidas significativas hacia un entorno más seguro y justo en la capital de la nación."
      ],
      "metadata": {
        "id": "1QMsKlHi1JQA"
      }
    },
    {
      "cell_type": "markdown",
      "source": [
        "**Objetivo y Contexto analítico:**\n",
        "\n",
        "El objetivo del presente es explorar y comprender la situación de los homicidios en Washington, D.C. Para lograr este objetivo, el análisis se enfoca en tres aspectos clave: la demografía de las víctimas, la tasa de resolución de casos y la distribución geográfica de los crímenes.\n",
        "\n",
        "El contexto analítico del presente es el entorno de Washington, D.C. como un centro neurálgico de la política, la cultura y la preocupación pública por la seguridad y la justicia en los Estados Unidos. El análisis se realiza considerando que Washington enfrenta desafíos significativos relacionados con la violencia homicida, y se busca obtener insights sobre esta problemática a través de la exploración de los tres aspectos mencionados.\n",
        "\n",
        "En resumen, analizar la situación de los homicidios en Washington, y el contexto analítico se refiere al escenario general y a los desafíos en esta área urbana."
      ],
      "metadata": {
        "id": "rh9ePImG1cJn"
      }
    },
    {
      "cell_type": "markdown",
      "source": [
        "**Preguntas/ Hipótesis:**\n",
        "\n",
        "1. ¿Cuáles son las razones subyacentes que hacen que la población de adultos\n",
        "jóvenes, especialmente entre las edades de 25 y 34, esté en mayor riesgo de ser víctimas de homicidio en Washington, D.C.?\n",
        "2. ¿Cuál es la razón detrás de la casi paridad entre los homicidios que resultan en arrestos y los que quedan sin resolver en Washington, y cómo esto afecta la percepción de eficacia de la aplicación de la ley y el sistema de justicia?\n",
        "3. ¿Qué factores socioeconómicos y demográficos pueden estar contribuyendo a que los estados como California, Texas e Illinois tengan una mayor incidencia de homicidios en comparación con Washington, D.C.?\n",
        "4. ¿Cuáles son las medidas de prevención y apoyo específicas que podrían ser implementadas para proteger a la población de adultos jóvenes en situaciones vulnerables en Washington y reducir la incidencia de homicidios en este grupo demográfico?"
      ],
      "metadata": {
        "id": "xp5OmoKO1MLy"
      }
    },
    {
      "cell_type": "markdown",
      "source": [
        "**Recomendaciones en base a los insights**\n",
        "\n",
        "1. Vulnerabilidad de adultos jóvenes: Se destaca que los adultos jóvenes, específicamente aquellos de 25 a 34 años, son particularmente vulnerables a la violencia homicida en Washington. Esto sugiere que hay un riesgo significativo para esta franja de edad, lo que resalta la importancia de programas de prevención y apoyo.\n",
        "2. Equilibrio entre arrestos y casos sin resolver: El análisis revela que la proporción de crímenes que resultan en arrestos es casi igual a la de casos no resueltos. Esto plantea interrogantes sobre la eficacia de la aplicación de la ley y el sistema de justicia en la capital, subrayando la necesidad de mejorar las investigaciones y recursos.\n",
        "3. Distribución geográfica de homicidios: Se observa que la violencia homicida no se limita exclusivamente a Washington, D.C., sino que afecta a otros estados de la unión, como California, Texas e Illinois. Esto indica que el problema no es localizado y puede estar influenciado por factores socioeconómicos y demográficos.\n",
        "4. Desafío multifacético: El análisis subraya que la cuestión de los homicidios en Washington es compleja y multifacética, lo que sugiere que se deben abordar desde múltiples perspectivas, incluyendo la prevención, la justicia y la investigación.\n",
        "\n",
        "En conjunto, estos insights enfatizan la importancia de abordar la violencia homicida desde una perspectiva integral y de comprender la dinámica de la criminalidad en Washington, D.C., con el fin de garantizar un entorno más seguro y justo en la capital de la nación."
      ],
      "metadata": {
        "id": "Q17Hhf0r1nsy"
      }
    },
    {
      "cell_type": "markdown",
      "source": [
        "**Problema Comercial**\n",
        "\n",
        "¿Cómo ha fluctuado los homicidios el último año? ¿ han aumentado o disminuido?\n",
        "\n",
        "¿Cual es el rango etario?\n",
        "\n",
        "¿Cuales son los 5 estados con mas homicidios?"
      ],
      "metadata": {
        "id": "hzJ7Cdc51zwq"
      }
    },
    {
      "cell_type": "markdown",
      "source": [
        "**Data Wrangling**"
      ],
      "metadata": {
        "id": "Z2BLSDlz4udC"
      }
    },
    {
      "cell_type": "code",
      "execution_count": null,
      "metadata": {
        "id": "aDGxipdlrRAU"
      },
      "outputs": [],
      "source": [
        "import pandas as pd\n",
        "import numpy as np\n",
        "import matplotlib as mpl\n",
        "import matplotlib.pyplot as plt\n",
        "import seaborn as sns\n",
        "from sklearn.model_selection import train_test_split\n",
        "from sklearn.ensemble import RandomForestClassifier\n",
        "from sklearn.tree import DecisionTreeClassifier\n",
        "from sklearn.metrics import accuracy_score\n",
        "from sklearn.metrics import classification_report\n",
        "from sklearn.linear_model import LinearRegression\n",
        "from sklearn.preprocessing import StandardScaler\n",
        "from sklearn.decomposition import PCA\n",
        "from sklearn.metrics import mean_squared_error, r2_score\n",
        "import seaborn as sns\n",
        "import matplotlib.pyplot as plt"
      ]
    },
    {
      "cell_type": "code",
      "source": [
        "from google.colab import files"
      ],
      "metadata": {
        "id": "fY_PnuBirRgu"
      },
      "execution_count": null,
      "outputs": []
    },
    {
      "cell_type": "code",
      "source": [
        "from google.colab import drive\n",
        "drive.mount ('/content/drive')"
      ],
      "metadata": {
        "colab": {
          "base_uri": "https://localhost:8080/"
        },
        "id": "5Jy40fidrX9a",
        "outputId": "48d5095e-e757-4f0c-faa0-7a5f9dd2220a"
      },
      "execution_count": null,
      "outputs": [
        {
          "output_type": "stream",
          "name": "stdout",
          "text": [
            "Mounted at /content/drive\n"
          ]
        }
      ]
    },
    {
      "cell_type": "markdown",
      "source": [
        "**Dataset:**"
      ],
      "metadata": {
        "id": "UzaBItqE4zgN"
      }
    },
    {
      "cell_type": "code",
      "source": [
        "df3 = pd.read_csv('/content/drive/MyDrive/Data Science 46275/Alex/Wash_homicide1.csv',encoding='latin-1',sep=\";\")"
      ],
      "metadata": {
        "id": "kOr9nTverYHg"
      },
      "execution_count": null,
      "outputs": []
    },
    {
      "cell_type": "markdown",
      "source": [
        "\n",
        "\n",
        "Las fechas no figuraban como datetime, con el sig. cód se agrega el type correcto"
      ],
      "metadata": {
        "id": "1rkdv5d4sJq5"
      }
    },
    {
      "cell_type": "code",
      "source": [
        "df3['reported_date'] = pd.to_datetime(df3['reported_date'])"
      ],
      "metadata": {
        "colab": {
          "base_uri": "https://localhost:8080/"
        },
        "id": "QuU6gU6TrRnH",
        "outputId": "8865e14b-78ef-41df-a118-7b093c9d60dc"
      },
      "execution_count": null,
      "outputs": [
        {
          "output_type": "stream",
          "name": "stderr",
          "text": [
            "<ipython-input-6-b0f7d87a33a7>:1: UserWarning: Parsing dates in DD/MM/YYYY format when dayfirst=False (the default) was specified. This may lead to inconsistently parsed dates! Specify a format to ensure consistent parsing.\n",
            "  df3['reported_date'] = pd.to_datetime(df3['reported_date'])\n"
          ]
        }
      ]
    },
    {
      "cell_type": "code",
      "source": [
        "df3.info()"
      ],
      "metadata": {
        "colab": {
          "base_uri": "https://localhost:8080/"
        },
        "id": "zSSKjPF-rRjQ",
        "outputId": "0a18991a-0edd-42dd-c8be-f760859c977b"
      },
      "execution_count": null,
      "outputs": [
        {
          "output_type": "stream",
          "name": "stdout",
          "text": [
            "<class 'pandas.core.frame.DataFrame'>\n",
            "RangeIndex: 49180 entries, 0 to 49179\n",
            "Data columns (total 12 columns):\n",
            " #   Column         Non-Null Count  Dtype         \n",
            "---  ------         --------------  -----         \n",
            " 0   uid            49180 non-null  object        \n",
            " 1   reported_date  49180 non-null  datetime64[ns]\n",
            " 2   victim_last    49179 non-null  object        \n",
            " 3   victim_first   49180 non-null  object        \n",
            " 4   victim_race    49180 non-null  object        \n",
            " 5   victim_age     49180 non-null  int64         \n",
            " 6   victim_sex     49180 non-null  object        \n",
            " 7   city           49180 non-null  object        \n",
            " 8   state          49180 non-null  object        \n",
            " 9   lat            49122 non-null  object        \n",
            " 10  lon            49122 non-null  object        \n",
            " 11  disposition    49180 non-null  object        \n",
            "dtypes: datetime64[ns](1), int64(1), object(10)\n",
            "memory usage: 4.5+ MB\n"
          ]
        }
      ]
    },
    {
      "cell_type": "code",
      "source": [
        "df3.head()"
      ],
      "metadata": {
        "colab": {
          "base_uri": "https://localhost:8080/",
          "height": 313
        },
        "id": "9BH2C0ykr1Ae",
        "outputId": "0e364e85-5c27-47d4-b306-a6c4f16893dd"
      },
      "execution_count": null,
      "outputs": [
        {
          "output_type": "execute_result",
          "data": {
            "text/plain": [
              "          uid reported_date  victim_last victim_first victim_race  victim_age  \\\n",
              "0  Alb-000001    2010-04-05       GARCIA         JUAN    Hispanic          78   \n",
              "1  Alb-000002    2010-05-05      MONTOYA      CAMERON    Hispanic          17   \n",
              "2  Alb-000003    2010-06-05  SATTERFIELD      VIVIANA       White          15   \n",
              "3  Alb-000004    2010-07-05     MENDIOLA       CARLOS    Hispanic          32   \n",
              "4  Alb-000005    2010-08-05         MULA       VIVIAN       White          72   \n",
              "\n",
              "  victim_sex         city state          lat             lon  \\\n",
              "0       Male  Albuquerque    NM  350.957.885  -1.065.385.549   \n",
              "1       Male  Albuquerque    NM  350.568.104    -106.715.321   \n",
              "2     Female  Albuquerque    NM   35.086.092    -106.695.568   \n",
              "3       Male  Albuquerque    NM  350.784.929  -1.065.560.938   \n",
              "4     Female  Albuquerque    NM  351.303.568  -1.065.809.862   \n",
              "\n",
              "             disposition  \n",
              "0  Closed without arrest  \n",
              "1       Closed by arrest  \n",
              "2  Closed without arrest  \n",
              "3       Closed by arrest  \n",
              "4  Closed without arrest  "
            ],
            "text/html": [
              "\n",
              "  <div id=\"df-6e50bdfd-e7df-4ca0-a475-cdf4b561555d\" class=\"colab-df-container\">\n",
              "    <div>\n",
              "<style scoped>\n",
              "    .dataframe tbody tr th:only-of-type {\n",
              "        vertical-align: middle;\n",
              "    }\n",
              "\n",
              "    .dataframe tbody tr th {\n",
              "        vertical-align: top;\n",
              "    }\n",
              "\n",
              "    .dataframe thead th {\n",
              "        text-align: right;\n",
              "    }\n",
              "</style>\n",
              "<table border=\"1\" class=\"dataframe\">\n",
              "  <thead>\n",
              "    <tr style=\"text-align: right;\">\n",
              "      <th></th>\n",
              "      <th>uid</th>\n",
              "      <th>reported_date</th>\n",
              "      <th>victim_last</th>\n",
              "      <th>victim_first</th>\n",
              "      <th>victim_race</th>\n",
              "      <th>victim_age</th>\n",
              "      <th>victim_sex</th>\n",
              "      <th>city</th>\n",
              "      <th>state</th>\n",
              "      <th>lat</th>\n",
              "      <th>lon</th>\n",
              "      <th>disposition</th>\n",
              "    </tr>\n",
              "  </thead>\n",
              "  <tbody>\n",
              "    <tr>\n",
              "      <th>0</th>\n",
              "      <td>Alb-000001</td>\n",
              "      <td>2010-04-05</td>\n",
              "      <td>GARCIA</td>\n",
              "      <td>JUAN</td>\n",
              "      <td>Hispanic</td>\n",
              "      <td>78</td>\n",
              "      <td>Male</td>\n",
              "      <td>Albuquerque</td>\n",
              "      <td>NM</td>\n",
              "      <td>350.957.885</td>\n",
              "      <td>-1.065.385.549</td>\n",
              "      <td>Closed without arrest</td>\n",
              "    </tr>\n",
              "    <tr>\n",
              "      <th>1</th>\n",
              "      <td>Alb-000002</td>\n",
              "      <td>2010-05-05</td>\n",
              "      <td>MONTOYA</td>\n",
              "      <td>CAMERON</td>\n",
              "      <td>Hispanic</td>\n",
              "      <td>17</td>\n",
              "      <td>Male</td>\n",
              "      <td>Albuquerque</td>\n",
              "      <td>NM</td>\n",
              "      <td>350.568.104</td>\n",
              "      <td>-106.715.321</td>\n",
              "      <td>Closed by arrest</td>\n",
              "    </tr>\n",
              "    <tr>\n",
              "      <th>2</th>\n",
              "      <td>Alb-000003</td>\n",
              "      <td>2010-06-05</td>\n",
              "      <td>SATTERFIELD</td>\n",
              "      <td>VIVIANA</td>\n",
              "      <td>White</td>\n",
              "      <td>15</td>\n",
              "      <td>Female</td>\n",
              "      <td>Albuquerque</td>\n",
              "      <td>NM</td>\n",
              "      <td>35.086.092</td>\n",
              "      <td>-106.695.568</td>\n",
              "      <td>Closed without arrest</td>\n",
              "    </tr>\n",
              "    <tr>\n",
              "      <th>3</th>\n",
              "      <td>Alb-000004</td>\n",
              "      <td>2010-07-05</td>\n",
              "      <td>MENDIOLA</td>\n",
              "      <td>CARLOS</td>\n",
              "      <td>Hispanic</td>\n",
              "      <td>32</td>\n",
              "      <td>Male</td>\n",
              "      <td>Albuquerque</td>\n",
              "      <td>NM</td>\n",
              "      <td>350.784.929</td>\n",
              "      <td>-1.065.560.938</td>\n",
              "      <td>Closed by arrest</td>\n",
              "    </tr>\n",
              "    <tr>\n",
              "      <th>4</th>\n",
              "      <td>Alb-000005</td>\n",
              "      <td>2010-08-05</td>\n",
              "      <td>MULA</td>\n",
              "      <td>VIVIAN</td>\n",
              "      <td>White</td>\n",
              "      <td>72</td>\n",
              "      <td>Female</td>\n",
              "      <td>Albuquerque</td>\n",
              "      <td>NM</td>\n",
              "      <td>351.303.568</td>\n",
              "      <td>-1.065.809.862</td>\n",
              "      <td>Closed without arrest</td>\n",
              "    </tr>\n",
              "  </tbody>\n",
              "</table>\n",
              "</div>\n",
              "    <div class=\"colab-df-buttons\">\n",
              "\n",
              "  <div class=\"colab-df-container\">\n",
              "    <button class=\"colab-df-convert\" onclick=\"convertToInteractive('df-6e50bdfd-e7df-4ca0-a475-cdf4b561555d')\"\n",
              "            title=\"Convert this dataframe to an interactive table.\"\n",
              "            style=\"display:none;\">\n",
              "\n",
              "  <svg xmlns=\"http://www.w3.org/2000/svg\" height=\"24px\" viewBox=\"0 -960 960 960\">\n",
              "    <path d=\"M120-120v-720h720v720H120Zm60-500h600v-160H180v160Zm220 220h160v-160H400v160Zm0 220h160v-160H400v160ZM180-400h160v-160H180v160Zm440 0h160v-160H620v160ZM180-180h160v-160H180v160Zm440 0h160v-160H620v160Z\"/>\n",
              "  </svg>\n",
              "    </button>\n",
              "\n",
              "  <style>\n",
              "    .colab-df-container {\n",
              "      display:flex;\n",
              "      gap: 12px;\n",
              "    }\n",
              "\n",
              "    .colab-df-convert {\n",
              "      background-color: #E8F0FE;\n",
              "      border: none;\n",
              "      border-radius: 50%;\n",
              "      cursor: pointer;\n",
              "      display: none;\n",
              "      fill: #1967D2;\n",
              "      height: 32px;\n",
              "      padding: 0 0 0 0;\n",
              "      width: 32px;\n",
              "    }\n",
              "\n",
              "    .colab-df-convert:hover {\n",
              "      background-color: #E2EBFA;\n",
              "      box-shadow: 0px 1px 2px rgba(60, 64, 67, 0.3), 0px 1px 3px 1px rgba(60, 64, 67, 0.15);\n",
              "      fill: #174EA6;\n",
              "    }\n",
              "\n",
              "    .colab-df-buttons div {\n",
              "      margin-bottom: 4px;\n",
              "    }\n",
              "\n",
              "    [theme=dark] .colab-df-convert {\n",
              "      background-color: #3B4455;\n",
              "      fill: #D2E3FC;\n",
              "    }\n",
              "\n",
              "    [theme=dark] .colab-df-convert:hover {\n",
              "      background-color: #434B5C;\n",
              "      box-shadow: 0px 1px 3px 1px rgba(0, 0, 0, 0.15);\n",
              "      filter: drop-shadow(0px 1px 2px rgba(0, 0, 0, 0.3));\n",
              "      fill: #FFFFFF;\n",
              "    }\n",
              "  </style>\n",
              "\n",
              "    <script>\n",
              "      const buttonEl =\n",
              "        document.querySelector('#df-6e50bdfd-e7df-4ca0-a475-cdf4b561555d button.colab-df-convert');\n",
              "      buttonEl.style.display =\n",
              "        google.colab.kernel.accessAllowed ? 'block' : 'none';\n",
              "\n",
              "      async function convertToInteractive(key) {\n",
              "        const element = document.querySelector('#df-6e50bdfd-e7df-4ca0-a475-cdf4b561555d');\n",
              "        const dataTable =\n",
              "          await google.colab.kernel.invokeFunction('convertToInteractive',\n",
              "                                                    [key], {});\n",
              "        if (!dataTable) return;\n",
              "\n",
              "        const docLinkHtml = 'Like what you see? Visit the ' +\n",
              "          '<a target=\"_blank\" href=https://colab.research.google.com/notebooks/data_table.ipynb>data table notebook</a>'\n",
              "          + ' to learn more about interactive tables.';\n",
              "        element.innerHTML = '';\n",
              "        dataTable['output_type'] = 'display_data';\n",
              "        await google.colab.output.renderOutput(dataTable, element);\n",
              "        const docLink = document.createElement('div');\n",
              "        docLink.innerHTML = docLinkHtml;\n",
              "        element.appendChild(docLink);\n",
              "      }\n",
              "    </script>\n",
              "  </div>\n",
              "\n",
              "\n",
              "<div id=\"df-7d084b57-c795-458e-a57b-25686aae4733\">\n",
              "  <button class=\"colab-df-quickchart\" onclick=\"quickchart('df-7d084b57-c795-458e-a57b-25686aae4733')\"\n",
              "            title=\"Suggest charts\"\n",
              "            style=\"display:none;\">\n",
              "\n",
              "<svg xmlns=\"http://www.w3.org/2000/svg\" height=\"24px\"viewBox=\"0 0 24 24\"\n",
              "     width=\"24px\">\n",
              "    <g>\n",
              "        <path d=\"M19 3H5c-1.1 0-2 .9-2 2v14c0 1.1.9 2 2 2h14c1.1 0 2-.9 2-2V5c0-1.1-.9-2-2-2zM9 17H7v-7h2v7zm4 0h-2V7h2v10zm4 0h-2v-4h2v4z\"/>\n",
              "    </g>\n",
              "</svg>\n",
              "  </button>\n",
              "\n",
              "<style>\n",
              "  .colab-df-quickchart {\n",
              "      --bg-color: #E8F0FE;\n",
              "      --fill-color: #1967D2;\n",
              "      --hover-bg-color: #E2EBFA;\n",
              "      --hover-fill-color: #174EA6;\n",
              "      --disabled-fill-color: #AAA;\n",
              "      --disabled-bg-color: #DDD;\n",
              "  }\n",
              "\n",
              "  [theme=dark] .colab-df-quickchart {\n",
              "      --bg-color: #3B4455;\n",
              "      --fill-color: #D2E3FC;\n",
              "      --hover-bg-color: #434B5C;\n",
              "      --hover-fill-color: #FFFFFF;\n",
              "      --disabled-bg-color: #3B4455;\n",
              "      --disabled-fill-color: #666;\n",
              "  }\n",
              "\n",
              "  .colab-df-quickchart {\n",
              "    background-color: var(--bg-color);\n",
              "    border: none;\n",
              "    border-radius: 50%;\n",
              "    cursor: pointer;\n",
              "    display: none;\n",
              "    fill: var(--fill-color);\n",
              "    height: 32px;\n",
              "    padding: 0;\n",
              "    width: 32px;\n",
              "  }\n",
              "\n",
              "  .colab-df-quickchart:hover {\n",
              "    background-color: var(--hover-bg-color);\n",
              "    box-shadow: 0 1px 2px rgba(60, 64, 67, 0.3), 0 1px 3px 1px rgba(60, 64, 67, 0.15);\n",
              "    fill: var(--button-hover-fill-color);\n",
              "  }\n",
              "\n",
              "  .colab-df-quickchart-complete:disabled,\n",
              "  .colab-df-quickchart-complete:disabled:hover {\n",
              "    background-color: var(--disabled-bg-color);\n",
              "    fill: var(--disabled-fill-color);\n",
              "    box-shadow: none;\n",
              "  }\n",
              "\n",
              "  .colab-df-spinner {\n",
              "    border: 2px solid var(--fill-color);\n",
              "    border-color: transparent;\n",
              "    border-bottom-color: var(--fill-color);\n",
              "    animation:\n",
              "      spin 1s steps(1) infinite;\n",
              "  }\n",
              "\n",
              "  @keyframes spin {\n",
              "    0% {\n",
              "      border-color: transparent;\n",
              "      border-bottom-color: var(--fill-color);\n",
              "      border-left-color: var(--fill-color);\n",
              "    }\n",
              "    20% {\n",
              "      border-color: transparent;\n",
              "      border-left-color: var(--fill-color);\n",
              "      border-top-color: var(--fill-color);\n",
              "    }\n",
              "    30% {\n",
              "      border-color: transparent;\n",
              "      border-left-color: var(--fill-color);\n",
              "      border-top-color: var(--fill-color);\n",
              "      border-right-color: var(--fill-color);\n",
              "    }\n",
              "    40% {\n",
              "      border-color: transparent;\n",
              "      border-right-color: var(--fill-color);\n",
              "      border-top-color: var(--fill-color);\n",
              "    }\n",
              "    60% {\n",
              "      border-color: transparent;\n",
              "      border-right-color: var(--fill-color);\n",
              "    }\n",
              "    80% {\n",
              "      border-color: transparent;\n",
              "      border-right-color: var(--fill-color);\n",
              "      border-bottom-color: var(--fill-color);\n",
              "    }\n",
              "    90% {\n",
              "      border-color: transparent;\n",
              "      border-bottom-color: var(--fill-color);\n",
              "    }\n",
              "  }\n",
              "</style>\n",
              "\n",
              "  <script>\n",
              "    async function quickchart(key) {\n",
              "      const quickchartButtonEl =\n",
              "        document.querySelector('#' + key + ' button');\n",
              "      quickchartButtonEl.disabled = true;  // To prevent multiple clicks.\n",
              "      quickchartButtonEl.classList.add('colab-df-spinner');\n",
              "      try {\n",
              "        const charts = await google.colab.kernel.invokeFunction(\n",
              "            'suggestCharts', [key], {});\n",
              "      } catch (error) {\n",
              "        console.error('Error during call to suggestCharts:', error);\n",
              "      }\n",
              "      quickchartButtonEl.classList.remove('colab-df-spinner');\n",
              "      quickchartButtonEl.classList.add('colab-df-quickchart-complete');\n",
              "    }\n",
              "    (() => {\n",
              "      let quickchartButtonEl =\n",
              "        document.querySelector('#df-7d084b57-c795-458e-a57b-25686aae4733 button');\n",
              "      quickchartButtonEl.style.display =\n",
              "        google.colab.kernel.accessAllowed ? 'block' : 'none';\n",
              "    })();\n",
              "  </script>\n",
              "</div>\n",
              "    </div>\n",
              "  </div>\n"
            ]
          },
          "metadata": {},
          "execution_count": 8
        }
      ]
    },
    {
      "cell_type": "markdown",
      "source": [
        "Datos nulos\n",
        "\n"
      ],
      "metadata": {
        "id": "U39M8go6sYbs"
      }
    },
    {
      "cell_type": "code",
      "source": [
        "df3.isnull().sum()"
      ],
      "metadata": {
        "colab": {
          "base_uri": "https://localhost:8080/"
        },
        "id": "5C_InSIJr-1I",
        "outputId": "63d01305-3bcd-4043-d135-32a38285648d"
      },
      "execution_count": null,
      "outputs": [
        {
          "output_type": "execute_result",
          "data": {
            "text/plain": [
              "uid               0\n",
              "reported_date     0\n",
              "victim_last       1\n",
              "victim_first      0\n",
              "victim_race       0\n",
              "victim_age        0\n",
              "victim_sex        0\n",
              "city              0\n",
              "state             0\n",
              "lat              58\n",
              "lon              58\n",
              "disposition       0\n",
              "dtype: int64"
            ]
          },
          "metadata": {},
          "execution_count": 9
        }
      ]
    },
    {
      "cell_type": "markdown",
      "source": [
        "*Colocar solo numeros en uid *"
      ],
      "metadata": {
        "id": "0k8Y_WQa6TzG"
      }
    },
    {
      "cell_type": "code",
      "source": [
        "import re"
      ],
      "metadata": {
        "id": "PAJi5DEi4toX"
      },
      "execution_count": null,
      "outputs": []
    },
    {
      "cell_type": "code",
      "source": [
        "df3['uid'] = df3['uid'].apply(lambda x: int(''.join(re.findall(r'\\d+', str(x))) if re.findall(r'\\d+', str(x)) else x))\n"
      ],
      "metadata": {
        "id": "3vK3iDL14EQA"
      },
      "execution_count": null,
      "outputs": []
    },
    {
      "cell_type": "markdown",
      "source": [
        "separar el año y mes de la fecha completa\n"
      ],
      "metadata": {
        "id": "CLfDq_k7sT29"
      }
    },
    {
      "cell_type": "code",
      "source": [
        "df3['año'] = df3['reported_date'].dt.year"
      ],
      "metadata": {
        "id": "v4Mz94Tl2HND"
      },
      "execution_count": null,
      "outputs": []
    },
    {
      "cell_type": "code",
      "source": [
        "df3['mes'] = df3['reported_date'].dt.month"
      ],
      "metadata": {
        "id": "udCHA5ddiC6C"
      },
      "execution_count": null,
      "outputs": []
    },
    {
      "cell_type": "code",
      "source": [
        "df3.head()"
      ],
      "metadata": {
        "colab": {
          "base_uri": "https://localhost:8080/",
          "height": 313
        },
        "id": "uQoQdDKev2DH",
        "outputId": "417113ba-87c0-47a5-fee0-057e9496615f"
      },
      "execution_count": null,
      "outputs": [
        {
          "output_type": "execute_result",
          "data": {
            "text/plain": [
              "   uid reported_date  victim_last victim_first victim_race  victim_age  \\\n",
              "0    1    2010-04-05       GARCIA         JUAN    Hispanic          78   \n",
              "1    2    2010-05-05      MONTOYA      CAMERON    Hispanic          17   \n",
              "2    3    2010-06-05  SATTERFIELD      VIVIANA       White          15   \n",
              "3    4    2010-07-05     MENDIOLA       CARLOS    Hispanic          32   \n",
              "4    5    2010-08-05         MULA       VIVIAN       White          72   \n",
              "\n",
              "  victim_sex         city state          lat             lon  \\\n",
              "0       Male  Albuquerque    NM  350.957.885  -1.065.385.549   \n",
              "1       Male  Albuquerque    NM  350.568.104    -106.715.321   \n",
              "2     Female  Albuquerque    NM   35.086.092    -106.695.568   \n",
              "3       Male  Albuquerque    NM  350.784.929  -1.065.560.938   \n",
              "4     Female  Albuquerque    NM  351.303.568  -1.065.809.862   \n",
              "\n",
              "             disposition   año  mes  \n",
              "0  Closed without arrest  2010    4  \n",
              "1       Closed by arrest  2010    5  \n",
              "2  Closed without arrest  2010    6  \n",
              "3       Closed by arrest  2010    7  \n",
              "4  Closed without arrest  2010    8  "
            ],
            "text/html": [
              "\n",
              "  <div id=\"df-31c98c71-2ce7-4c09-b3af-700e1201ea9a\" class=\"colab-df-container\">\n",
              "    <div>\n",
              "<style scoped>\n",
              "    .dataframe tbody tr th:only-of-type {\n",
              "        vertical-align: middle;\n",
              "    }\n",
              "\n",
              "    .dataframe tbody tr th {\n",
              "        vertical-align: top;\n",
              "    }\n",
              "\n",
              "    .dataframe thead th {\n",
              "        text-align: right;\n",
              "    }\n",
              "</style>\n",
              "<table border=\"1\" class=\"dataframe\">\n",
              "  <thead>\n",
              "    <tr style=\"text-align: right;\">\n",
              "      <th></th>\n",
              "      <th>uid</th>\n",
              "      <th>reported_date</th>\n",
              "      <th>victim_last</th>\n",
              "      <th>victim_first</th>\n",
              "      <th>victim_race</th>\n",
              "      <th>victim_age</th>\n",
              "      <th>victim_sex</th>\n",
              "      <th>city</th>\n",
              "      <th>state</th>\n",
              "      <th>lat</th>\n",
              "      <th>lon</th>\n",
              "      <th>disposition</th>\n",
              "      <th>año</th>\n",
              "      <th>mes</th>\n",
              "    </tr>\n",
              "  </thead>\n",
              "  <tbody>\n",
              "    <tr>\n",
              "      <th>0</th>\n",
              "      <td>1</td>\n",
              "      <td>2010-04-05</td>\n",
              "      <td>GARCIA</td>\n",
              "      <td>JUAN</td>\n",
              "      <td>Hispanic</td>\n",
              "      <td>78</td>\n",
              "      <td>Male</td>\n",
              "      <td>Albuquerque</td>\n",
              "      <td>NM</td>\n",
              "      <td>350.957.885</td>\n",
              "      <td>-1.065.385.549</td>\n",
              "      <td>Closed without arrest</td>\n",
              "      <td>2010</td>\n",
              "      <td>4</td>\n",
              "    </tr>\n",
              "    <tr>\n",
              "      <th>1</th>\n",
              "      <td>2</td>\n",
              "      <td>2010-05-05</td>\n",
              "      <td>MONTOYA</td>\n",
              "      <td>CAMERON</td>\n",
              "      <td>Hispanic</td>\n",
              "      <td>17</td>\n",
              "      <td>Male</td>\n",
              "      <td>Albuquerque</td>\n",
              "      <td>NM</td>\n",
              "      <td>350.568.104</td>\n",
              "      <td>-106.715.321</td>\n",
              "      <td>Closed by arrest</td>\n",
              "      <td>2010</td>\n",
              "      <td>5</td>\n",
              "    </tr>\n",
              "    <tr>\n",
              "      <th>2</th>\n",
              "      <td>3</td>\n",
              "      <td>2010-06-05</td>\n",
              "      <td>SATTERFIELD</td>\n",
              "      <td>VIVIANA</td>\n",
              "      <td>White</td>\n",
              "      <td>15</td>\n",
              "      <td>Female</td>\n",
              "      <td>Albuquerque</td>\n",
              "      <td>NM</td>\n",
              "      <td>35.086.092</td>\n",
              "      <td>-106.695.568</td>\n",
              "      <td>Closed without arrest</td>\n",
              "      <td>2010</td>\n",
              "      <td>6</td>\n",
              "    </tr>\n",
              "    <tr>\n",
              "      <th>3</th>\n",
              "      <td>4</td>\n",
              "      <td>2010-07-05</td>\n",
              "      <td>MENDIOLA</td>\n",
              "      <td>CARLOS</td>\n",
              "      <td>Hispanic</td>\n",
              "      <td>32</td>\n",
              "      <td>Male</td>\n",
              "      <td>Albuquerque</td>\n",
              "      <td>NM</td>\n",
              "      <td>350.784.929</td>\n",
              "      <td>-1.065.560.938</td>\n",
              "      <td>Closed by arrest</td>\n",
              "      <td>2010</td>\n",
              "      <td>7</td>\n",
              "    </tr>\n",
              "    <tr>\n",
              "      <th>4</th>\n",
              "      <td>5</td>\n",
              "      <td>2010-08-05</td>\n",
              "      <td>MULA</td>\n",
              "      <td>VIVIAN</td>\n",
              "      <td>White</td>\n",
              "      <td>72</td>\n",
              "      <td>Female</td>\n",
              "      <td>Albuquerque</td>\n",
              "      <td>NM</td>\n",
              "      <td>351.303.568</td>\n",
              "      <td>-1.065.809.862</td>\n",
              "      <td>Closed without arrest</td>\n",
              "      <td>2010</td>\n",
              "      <td>8</td>\n",
              "    </tr>\n",
              "  </tbody>\n",
              "</table>\n",
              "</div>\n",
              "    <div class=\"colab-df-buttons\">\n",
              "\n",
              "  <div class=\"colab-df-container\">\n",
              "    <button class=\"colab-df-convert\" onclick=\"convertToInteractive('df-31c98c71-2ce7-4c09-b3af-700e1201ea9a')\"\n",
              "            title=\"Convert this dataframe to an interactive table.\"\n",
              "            style=\"display:none;\">\n",
              "\n",
              "  <svg xmlns=\"http://www.w3.org/2000/svg\" height=\"24px\" viewBox=\"0 -960 960 960\">\n",
              "    <path d=\"M120-120v-720h720v720H120Zm60-500h600v-160H180v160Zm220 220h160v-160H400v160Zm0 220h160v-160H400v160ZM180-400h160v-160H180v160Zm440 0h160v-160H620v160ZM180-180h160v-160H180v160Zm440 0h160v-160H620v160Z\"/>\n",
              "  </svg>\n",
              "    </button>\n",
              "\n",
              "  <style>\n",
              "    .colab-df-container {\n",
              "      display:flex;\n",
              "      gap: 12px;\n",
              "    }\n",
              "\n",
              "    .colab-df-convert {\n",
              "      background-color: #E8F0FE;\n",
              "      border: none;\n",
              "      border-radius: 50%;\n",
              "      cursor: pointer;\n",
              "      display: none;\n",
              "      fill: #1967D2;\n",
              "      height: 32px;\n",
              "      padding: 0 0 0 0;\n",
              "      width: 32px;\n",
              "    }\n",
              "\n",
              "    .colab-df-convert:hover {\n",
              "      background-color: #E2EBFA;\n",
              "      box-shadow: 0px 1px 2px rgba(60, 64, 67, 0.3), 0px 1px 3px 1px rgba(60, 64, 67, 0.15);\n",
              "      fill: #174EA6;\n",
              "    }\n",
              "\n",
              "    .colab-df-buttons div {\n",
              "      margin-bottom: 4px;\n",
              "    }\n",
              "\n",
              "    [theme=dark] .colab-df-convert {\n",
              "      background-color: #3B4455;\n",
              "      fill: #D2E3FC;\n",
              "    }\n",
              "\n",
              "    [theme=dark] .colab-df-convert:hover {\n",
              "      background-color: #434B5C;\n",
              "      box-shadow: 0px 1px 3px 1px rgba(0, 0, 0, 0.15);\n",
              "      filter: drop-shadow(0px 1px 2px rgba(0, 0, 0, 0.3));\n",
              "      fill: #FFFFFF;\n",
              "    }\n",
              "  </style>\n",
              "\n",
              "    <script>\n",
              "      const buttonEl =\n",
              "        document.querySelector('#df-31c98c71-2ce7-4c09-b3af-700e1201ea9a button.colab-df-convert');\n",
              "      buttonEl.style.display =\n",
              "        google.colab.kernel.accessAllowed ? 'block' : 'none';\n",
              "\n",
              "      async function convertToInteractive(key) {\n",
              "        const element = document.querySelector('#df-31c98c71-2ce7-4c09-b3af-700e1201ea9a');\n",
              "        const dataTable =\n",
              "          await google.colab.kernel.invokeFunction('convertToInteractive',\n",
              "                                                    [key], {});\n",
              "        if (!dataTable) return;\n",
              "\n",
              "        const docLinkHtml = 'Like what you see? Visit the ' +\n",
              "          '<a target=\"_blank\" href=https://colab.research.google.com/notebooks/data_table.ipynb>data table notebook</a>'\n",
              "          + ' to learn more about interactive tables.';\n",
              "        element.innerHTML = '';\n",
              "        dataTable['output_type'] = 'display_data';\n",
              "        await google.colab.output.renderOutput(dataTable, element);\n",
              "        const docLink = document.createElement('div');\n",
              "        docLink.innerHTML = docLinkHtml;\n",
              "        element.appendChild(docLink);\n",
              "      }\n",
              "    </script>\n",
              "  </div>\n",
              "\n",
              "\n",
              "<div id=\"df-98c5c949-7b2b-4e1e-acd6-15230eade9d8\">\n",
              "  <button class=\"colab-df-quickchart\" onclick=\"quickchart('df-98c5c949-7b2b-4e1e-acd6-15230eade9d8')\"\n",
              "            title=\"Suggest charts\"\n",
              "            style=\"display:none;\">\n",
              "\n",
              "<svg xmlns=\"http://www.w3.org/2000/svg\" height=\"24px\"viewBox=\"0 0 24 24\"\n",
              "     width=\"24px\">\n",
              "    <g>\n",
              "        <path d=\"M19 3H5c-1.1 0-2 .9-2 2v14c0 1.1.9 2 2 2h14c1.1 0 2-.9 2-2V5c0-1.1-.9-2-2-2zM9 17H7v-7h2v7zm4 0h-2V7h2v10zm4 0h-2v-4h2v4z\"/>\n",
              "    </g>\n",
              "</svg>\n",
              "  </button>\n",
              "\n",
              "<style>\n",
              "  .colab-df-quickchart {\n",
              "      --bg-color: #E8F0FE;\n",
              "      --fill-color: #1967D2;\n",
              "      --hover-bg-color: #E2EBFA;\n",
              "      --hover-fill-color: #174EA6;\n",
              "      --disabled-fill-color: #AAA;\n",
              "      --disabled-bg-color: #DDD;\n",
              "  }\n",
              "\n",
              "  [theme=dark] .colab-df-quickchart {\n",
              "      --bg-color: #3B4455;\n",
              "      --fill-color: #D2E3FC;\n",
              "      --hover-bg-color: #434B5C;\n",
              "      --hover-fill-color: #FFFFFF;\n",
              "      --disabled-bg-color: #3B4455;\n",
              "      --disabled-fill-color: #666;\n",
              "  }\n",
              "\n",
              "  .colab-df-quickchart {\n",
              "    background-color: var(--bg-color);\n",
              "    border: none;\n",
              "    border-radius: 50%;\n",
              "    cursor: pointer;\n",
              "    display: none;\n",
              "    fill: var(--fill-color);\n",
              "    height: 32px;\n",
              "    padding: 0;\n",
              "    width: 32px;\n",
              "  }\n",
              "\n",
              "  .colab-df-quickchart:hover {\n",
              "    background-color: var(--hover-bg-color);\n",
              "    box-shadow: 0 1px 2px rgba(60, 64, 67, 0.3), 0 1px 3px 1px rgba(60, 64, 67, 0.15);\n",
              "    fill: var(--button-hover-fill-color);\n",
              "  }\n",
              "\n",
              "  .colab-df-quickchart-complete:disabled,\n",
              "  .colab-df-quickchart-complete:disabled:hover {\n",
              "    background-color: var(--disabled-bg-color);\n",
              "    fill: var(--disabled-fill-color);\n",
              "    box-shadow: none;\n",
              "  }\n",
              "\n",
              "  .colab-df-spinner {\n",
              "    border: 2px solid var(--fill-color);\n",
              "    border-color: transparent;\n",
              "    border-bottom-color: var(--fill-color);\n",
              "    animation:\n",
              "      spin 1s steps(1) infinite;\n",
              "  }\n",
              "\n",
              "  @keyframes spin {\n",
              "    0% {\n",
              "      border-color: transparent;\n",
              "      border-bottom-color: var(--fill-color);\n",
              "      border-left-color: var(--fill-color);\n",
              "    }\n",
              "    20% {\n",
              "      border-color: transparent;\n",
              "      border-left-color: var(--fill-color);\n",
              "      border-top-color: var(--fill-color);\n",
              "    }\n",
              "    30% {\n",
              "      border-color: transparent;\n",
              "      border-left-color: var(--fill-color);\n",
              "      border-top-color: var(--fill-color);\n",
              "      border-right-color: var(--fill-color);\n",
              "    }\n",
              "    40% {\n",
              "      border-color: transparent;\n",
              "      border-right-color: var(--fill-color);\n",
              "      border-top-color: var(--fill-color);\n",
              "    }\n",
              "    60% {\n",
              "      border-color: transparent;\n",
              "      border-right-color: var(--fill-color);\n",
              "    }\n",
              "    80% {\n",
              "      border-color: transparent;\n",
              "      border-right-color: var(--fill-color);\n",
              "      border-bottom-color: var(--fill-color);\n",
              "    }\n",
              "    90% {\n",
              "      border-color: transparent;\n",
              "      border-bottom-color: var(--fill-color);\n",
              "    }\n",
              "  }\n",
              "</style>\n",
              "\n",
              "  <script>\n",
              "    async function quickchart(key) {\n",
              "      const quickchartButtonEl =\n",
              "        document.querySelector('#' + key + ' button');\n",
              "      quickchartButtonEl.disabled = true;  // To prevent multiple clicks.\n",
              "      quickchartButtonEl.classList.add('colab-df-spinner');\n",
              "      try {\n",
              "        const charts = await google.colab.kernel.invokeFunction(\n",
              "            'suggestCharts', [key], {});\n",
              "      } catch (error) {\n",
              "        console.error('Error during call to suggestCharts:', error);\n",
              "      }\n",
              "      quickchartButtonEl.classList.remove('colab-df-spinner');\n",
              "      quickchartButtonEl.classList.add('colab-df-quickchart-complete');\n",
              "    }\n",
              "    (() => {\n",
              "      let quickchartButtonEl =\n",
              "        document.querySelector('#df-98c5c949-7b2b-4e1e-acd6-15230eade9d8 button');\n",
              "      quickchartButtonEl.style.display =\n",
              "        google.colab.kernel.accessAllowed ? 'block' : 'none';\n",
              "    })();\n",
              "  </script>\n",
              "</div>\n",
              "    </div>\n",
              "  </div>\n"
            ]
          },
          "metadata": {},
          "execution_count": 14
        }
      ]
    },
    {
      "cell_type": "code",
      "source": [
        "df3.info()"
      ],
      "metadata": {
        "colab": {
          "base_uri": "https://localhost:8080/"
        },
        "id": "gIA5fmmVSk8q",
        "outputId": "c1743274-8972-43a9-dec6-e95b10126337"
      },
      "execution_count": null,
      "outputs": [
        {
          "output_type": "stream",
          "name": "stdout",
          "text": [
            "<class 'pandas.core.frame.DataFrame'>\n",
            "RangeIndex: 49180 entries, 0 to 49179\n",
            "Data columns (total 14 columns):\n",
            " #   Column         Non-Null Count  Dtype         \n",
            "---  ------         --------------  -----         \n",
            " 0   uid            49180 non-null  int64         \n",
            " 1   reported_date  49180 non-null  datetime64[ns]\n",
            " 2   victim_last    49179 non-null  object        \n",
            " 3   victim_first   49180 non-null  object        \n",
            " 4   victim_race    49180 non-null  object        \n",
            " 5   victim_age     49180 non-null  int64         \n",
            " 6   victim_sex     49180 non-null  object        \n",
            " 7   city           49180 non-null  object        \n",
            " 8   state          49180 non-null  object        \n",
            " 9   lat            49122 non-null  object        \n",
            " 10  lon            49122 non-null  object        \n",
            " 11  disposition    49180 non-null  object        \n",
            " 12  año            49180 non-null  int64         \n",
            " 13  mes            49180 non-null  int64         \n",
            "dtypes: datetime64[ns](1), int64(4), object(9)\n",
            "memory usage: 5.3+ MB\n"
          ]
        }
      ]
    },
    {
      "cell_type": "markdown",
      "source": [
        "**Análisis** **Univariado**"
      ],
      "metadata": {
        "id": "5O21Ft1vw-Sc"
      }
    },
    {
      "cell_type": "markdown",
      "source": [
        "**Conteo de victimas por año 2010 al 2022**\n",
        "\n",
        "\n"
      ],
      "metadata": {
        "id": "tVBkuhYz6Yux"
      }
    },
    {
      "cell_type": "code",
      "source": [
        "conteo_victimas_por_año = df3.groupby('año')['uid'].count()"
      ],
      "metadata": {
        "id": "aB5_C8Xk2Z6W"
      },
      "execution_count": null,
      "outputs": []
    },
    {
      "cell_type": "code",
      "source": [
        "conteo_victimas_2010_2022 = conteo_victimas_por_año[(conteo_victimas_por_año.index >= 2010) & (conteo_victimas_por_año.index <= 2022)]"
      ],
      "metadata": {
        "id": "mNlkotG-2lvy"
      },
      "execution_count": null,
      "outputs": []
    },
    {
      "cell_type": "code",
      "source": [
        "conteo_victimas_2010_2022.info()"
      ],
      "metadata": {
        "colab": {
          "base_uri": "https://localhost:8080/"
        },
        "id": "xsfg8MWP3Zv0",
        "outputId": "d9a1af98-511d-436f-80e8-241beab76278"
      },
      "execution_count": null,
      "outputs": [
        {
          "output_type": "stream",
          "name": "stdout",
          "text": [
            "<class 'pandas.core.series.Series'>\n",
            "Int64Index: 13 entries, 2010 to 2022\n",
            "Series name: uid\n",
            "Non-Null Count  Dtype\n",
            "--------------  -----\n",
            "13 non-null     int64\n",
            "dtypes: int64(1)\n",
            "memory usage: 208.0 bytes\n"
          ]
        }
      ]
    },
    {
      "cell_type": "code",
      "source": [
        "plt.figure(figsize=(10, 6))\n",
        "plt.bar(conteo_victimas_2010_2022.index, conteo_victimas_2010_2022.values, color='skyblue')\n",
        "plt.xlabel('Año')\n",
        "plt.ylabel('Número de Víctimas')\n",
        "plt.title('Conteo de Víctimas (2010-2022)')\n",
        "plt.xticks(rotation=45)\n",
        "plt.show()"
      ],
      "metadata": {
        "colab": {
          "base_uri": "https://localhost:8080/",
          "height": 585
        },
        "id": "3dxqanP13hSd",
        "outputId": "121d0c10-5f49-4541-ac22-8635068238b5"
      },
      "execution_count": null,
      "outputs": [
        {
          "output_type": "display_data",
          "data": {
            "text/plain": [
              "<Figure size 1000x600 with 1 Axes>"
            ],
            "image/png": "[encoded data removed]"
          },
          "metadata": {}
        }
      ]
    },
    {
      "cell_type": "markdown",
      "source": [
        "**Interpretación**: Se mantiene una constante entre los años 2012 al 2022"
      ],
      "metadata": {
        "id": "0se7wUmo5uYb"
      }
    },
    {
      "cell_type": "markdown",
      "source": [
        "**Muertes por mes**"
      ],
      "metadata": {
        "id": "d2Zm7qRtiL4F"
      }
    },
    {
      "cell_type": "code",
      "source": [
        "df3['mes'].info"
      ],
      "metadata": {
        "colab": {
          "base_uri": "https://localhost:8080/"
        },
        "id": "r01kuOMKlSSc",
        "outputId": "04c79901-242b-472a-f317-962f9580dc21"
      },
      "execution_count": null,
      "outputs": [
        {
          "output_type": "execute_result",
          "data": {
            "text/plain": [
              "<bound method Series.info of 0         4\n",
              "1         5\n",
              "2         6\n",
              "3         7\n",
              "4         8\n",
              "         ..\n",
              "49175     9\n",
              "49176    10\n",
              "49177    11\n",
              "49178    12\n",
              "49179     3\n",
              "Name: mes, Length: 49180, dtype: int64>"
            ]
          },
          "metadata": {},
          "execution_count": 20
        }
      ]
    },
    {
      "cell_type": "code",
      "source": [
        "conteo_victimas_Monthly = df3.groupby('mes')['uid'].count()"
      ],
      "metadata": {
        "id": "MHShY1fyiCth"
      },
      "execution_count": null,
      "outputs": []
    },
    {
      "cell_type": "code",
      "source": [
        "conteo_victimas_Monthly= conteo_victimas_Monthly[(conteo_victimas_Monthly.index >= 1) & (conteo_victimas_Monthly.index <= 12)]"
      ],
      "metadata": {
        "id": "9weLWWjQiDAR"
      },
      "execution_count": null,
      "outputs": []
    },
    {
      "cell_type": "code",
      "source": [
        "plt.figure(figsize=(8, 6))\n",
        "plt.bar(conteo_victimas_Monthly.index, conteo_victimas_Monthly.values, color='pink')\n",
        "plt.xlabel('mes')\n",
        "plt.ylabel('Número de Víctimas')\n",
        "plt.title('Conteo_victimas_Monthly')\n",
        "plt.xticks(rotation=45)\n",
        "plt.show()\n"
      ],
      "metadata": {
        "colab": {
          "base_uri": "https://localhost:8080/",
          "height": 572
        },
        "id": "LcTGXejFiDC_",
        "outputId": "19ebf721-2a71-44b2-dc36-d57c43f090c4"
      },
      "execution_count": null,
      "outputs": [
        {
          "output_type": "display_data",
          "data": {
            "text/plain": [
              "<Figure size 800x600 with 1 Axes>"
            ],
            "image/png": "[encoded data removed]"
          },
          "metadata": {}
        }
      ]
    },
    {
      "cell_type": "markdown",
      "source": [
        "**Interpretación**: Se mantiene una constante entre los meses, habiendo una disminución de homicidios importante en Febrero"
      ],
      "metadata": {
        "id": "njbpD1bS50T6"
      }
    },
    {
      "cell_type": "markdown",
      "source": [
        "**Conteo de Victimas por raza**"
      ],
      "metadata": {
        "id": "p4TkxKGesDyI"
      }
    },
    {
      "cell_type": "code",
      "source": [
        "import matplotlib.pyplot as plt\n",
        "victim_race_counts = df3['victim_race'].value_counts()\n",
        "plt.bar(victim_race_counts.index, victim_race_counts.values, color= 'lightpink')\n",
        "plt.xlabel('Raza de la víctima')\n",
        "plt.ylabel('Cantidad de víctimas')\n",
        "plt.title('Cantidad de víctimas por Raza')\n",
        "plt.xticks(rotation=45)\n",
        "plt.show()"
      ],
      "metadata": {
        "colab": {
          "base_uri": "https://localhost:8080/",
          "height": 514
        },
        "id": "vE2VRxiUiDJC",
        "outputId": "8a37f581-85e4-4a6c-d19e-1b3e9d36208b"
      },
      "execution_count": null,
      "outputs": [
        {
          "output_type": "display_data",
          "data": {
            "text/plain": [
              "<Figure size 640x480 with 1 Axes>"
            ],
            "image/png": "[encoded data removed]"
          },
          "metadata": {}
        }
      ]
    },
    {
      "cell_type": "markdown",
      "source": [
        "**Interpretación**: Más del 50% de las víctimas fueron personas de raza africana y menos del 10% de raza asiática"
      ],
      "metadata": {
        "id": "zfXYA8kx2IWn"
      }
    },
    {
      "cell_type": "markdown",
      "source": [
        "**Conteo de Victimas por edad**"
      ],
      "metadata": {
        "id": "41rSVDFP8AgZ"
      }
    },
    {
      "cell_type": "code",
      "source": [
        "edades = [20,25,30,35,40,45,50,55,60,65,70,75,80,85]\n",
        "plt.figure(figsize=(8,4))\n",
        "plt.hist(df3['victim_age'], bins=edades, edgecolor='black', color= 'lightpink')\n",
        "plt.xlabel('victim_age')\n",
        "plt.ylabel('Frecuencia')"
      ],
      "metadata": {
        "colab": {
          "base_uri": "https://localhost:8080/",
          "height": 405
        },
        "id": "xzwEx5R6iDLm",
        "outputId": "1e675c6e-b721-4db4-a07c-12197012b383"
      },
      "execution_count": null,
      "outputs": [
        {
          "output_type": "execute_result",
          "data": {
            "text/plain": [
              "Text(0, 0.5, 'Frecuencia')"
            ]
          },
          "metadata": {},
          "execution_count": 25
        },
        {
          "output_type": "display_data",
          "data": {
            "text/plain": [
              "<Figure size 800x400 with 1 Axes>"
            ],
            "image/png": "[encoded data removed]"
          },
          "metadata": {}
        }
      ]
    },
    {
      "cell_type": "markdown",
      "source": [
        "**Interpretación**: las edades comprendidas de las victimas son desde los tempranos 20 hasta 34 años."
      ],
      "metadata": {
        "id": "0MHLbnEk3VkR"
      }
    },
    {
      "cell_type": "markdown",
      "source": [
        "**Victimas por estado**"
      ],
      "metadata": {
        "id": "whAS34Co_VXT"
      }
    },
    {
      "cell_type": "code",
      "source": [
        "victimas_por_estado = df3['state'].value_counts()"
      ],
      "metadata": {
        "id": "K74unTSriDOj"
      },
      "execution_count": null,
      "outputs": []
    },
    {
      "cell_type": "code",
      "source": [
        "plt.figure(figsize=(10, 6))\n",
        "victimas_por_estado.plot(kind='bar', color= 'lightpink')\n",
        "plt.xlabel('Estado')\n",
        "plt.ylabel('Número de Víctimas')\n",
        "plt.title('Conteo de Víctimas por Estado')\n",
        "plt.xticks(rotation=45)\n",
        "plt.show()"
      ],
      "metadata": {
        "colab": {
          "base_uri": "https://localhost:8080/",
          "height": 577
        },
        "id": "tKCZBHGYiDRN",
        "outputId": "f2b175cf-e174-4407-df35-c5ad2b8f5967"
      },
      "execution_count": null,
      "outputs": [
        {
          "output_type": "display_data",
          "data": {
            "text/plain": [
              "<Figure size 1000x600 with 1 Axes>"
            ],
            "image/png": "[encoded data removed]"
          },
          "metadata": {}
        }
      ]
    },
    {
      "cell_type": "code",
      "source": [
        "victimas_por_estado = df3.groupby('state')['uid'].count().reset_index()"
      ],
      "metadata": {
        "id": "NUHPW7kBACE7"
      },
      "execution_count": null,
      "outputs": []
    },
    {
      "cell_type": "code",
      "source": [
        "victimas_por_estado = victimas_por_estado.sort_values(by='uid', ascending=False)"
      ],
      "metadata": {
        "id": "T1WN2Q93A6y4"
      },
      "execution_count": null,
      "outputs": []
    },
    {
      "cell_type": "code",
      "source": [
        "print(victimas_por_estado)"
      ],
      "metadata": {
        "colab": {
          "base_uri": "https://localhost:8080/"
        },
        "id": "btEAoPxliDT3",
        "outputId": "4f2dde83-7941-4f40-8929-0a3f70e547b9"
      },
      "execution_count": null,
      "outputs": [
        {
          "output_type": "stream",
          "name": "stdout",
          "text": [
            "   state   uid\n",
            "1     CA  6209\n",
            "6     IL  5529\n",
            "24    TX  4292\n",
            "22    PA  3666\n",
            "14    MO  2853\n",
            "11    MD  2827\n",
            "12    MI  2497\n",
            "23    TN  2279\n",
            "4     FL  2080\n",
            "9     LA  1820\n",
            "20    OH  1769\n",
            "18    NV  1371\n",
            "3     DC  1344\n",
            "7     IN  1322\n",
            "21    OK  1228\n",
            "5     GA  1204\n",
            "19    NY  1140\n",
            "26    wI  1115\n",
            "15    NC   937\n",
            "0     AL   788\n",
            "10    MA   614\n",
            "8     KY   574\n",
            "16    NE   404\n",
            "13    MN   366\n",
            "17    NM   323\n",
            "25    VA   317\n",
            "2     CO   312\n"
          ]
        }
      ]
    },
    {
      "cell_type": "code",
      "source": [
        "top_states = victimas_por_estado.head(5)\n"
      ],
      "metadata": {
        "id": "A8UlEO3yiDWh"
      },
      "execution_count": null,
      "outputs": []
    },
    {
      "cell_type": "code",
      "source": [
        "plt.figure(figsize=(10, 6))\n",
        "plt.bar(top_states['state'], top_states['uid'], color= 'lightpink')\n",
        "plt.xlabel('Estado')\n",
        "plt.ylabel('Número de Víctimas')\n",
        "plt.title('Top 5 Estados con Mayor Cantidad de Víctimas')\n",
        "plt.xticks(rotation=45)\n"
      ],
      "metadata": {
        "colab": {
          "base_uri": "https://localhost:8080/",
          "height": 681
        },
        "id": "85diu_poiDYV",
        "outputId": "60bdd5e2-830e-4edb-b049-0d3ca16b90be"
      },
      "execution_count": null,
      "outputs": [
        {
          "output_type": "execute_result",
          "data": {
            "text/plain": [
              "([0, 1, 2, 3, 4],\n",
              " [Text(0, 0, 'CA'),\n",
              "  Text(1, 0, 'IL'),\n",
              "  Text(2, 0, 'TX'),\n",
              "  Text(3, 0, 'PA'),\n",
              "  Text(4, 0, 'MO')])"
            ]
          },
          "metadata": {},
          "execution_count": 32
        },
        {
          "output_type": "display_data",
          "data": {
            "text/plain": [
              "<Figure size 1000x600 with 1 Axes>"
            ],
            "image/png": "[encoded data removed]"
          },
          "metadata": {}
        }
      ]
    },
    {
      "cell_type": "markdown",
      "source": [
        "**Interpretación**: los primeros 3 estados en que mas se perpetran crimenes son California, Illinois y Texas"
      ],
      "metadata": {
        "id": "rjE3FY9b2YCf"
      }
    },
    {
      "cell_type": "markdown",
      "source": [
        "**Conteo de victimas por arresto o impunidad**\n",
        "\n",
        "1.   List item\n",
        "2.   List item\n",
        "\n",
        "\n",
        "\n",
        "\n",
        "\n"
      ],
      "metadata": {
        "id": "q8fMgSyaO_2T"
      }
    },
    {
      "cell_type": "code",
      "source": [
        "custom_palette = ['lightblue', 'lightpink', 'lightgreen']"
      ],
      "metadata": {
        "id": "dmI71K42QEXS"
      },
      "execution_count": null,
      "outputs": []
    },
    {
      "cell_type": "code",
      "source": [
        "disposition_counts = df3['disposition'].value_counts()\n",
        "sns.set_style('whitegrid')\n",
        "plt.figure(figsize=(8, 4))\n",
        "sns.countplot(y='disposition', data=df3, order=disposition_counts.index, palette=custom_palette)\n",
        "plt.title('Recuento de Disposiciones')\n",
        "plt.xlabel('Frecuencia')\n",
        "\n",
        "plt.show()"
      ],
      "metadata": {
        "colab": {
          "base_uri": "https://localhost:8080/",
          "height": 410
        },
        "id": "9ltlm2ExCc6b",
        "outputId": "494c0b60-d9d3-48b8-dad3-d0cd19db6f7b"
      },
      "execution_count": null,
      "outputs": [
        {
          "output_type": "display_data",
          "data": {
            "text/plain": [
              "<Figure size 800x400 with 1 Axes>"
            ],
            "image/png": "[encoded data removed]"
          },
          "metadata": {}
        }
      ]
    },
    {
      "cell_type": "markdown",
      "source": [
        "**Interpretación**: de la totalidad de los crimenes, los casos en que se arresto al perpetrador y los casos que quedaron impunes tienen casi el mismo porcentaje."
      ],
      "metadata": {
        "id": "9RHVhcKP2PLE"
      }
    },
    {
      "cell_type": "markdown",
      "source": [
        "**Análisis Bivariado**"
      ],
      "metadata": {
        "id": "UGEk0GHgMJ3L"
      }
    },
    {
      "cell_type": "markdown",
      "source": [
        "**Muertes por edad y genero**"
      ],
      "metadata": {
        "id": "ZZGIyEXsQxs8"
      }
    },
    {
      "cell_type": "code",
      "source": [
        "colores_personalizados = ['lightblue', 'red', 'yellow']"
      ],
      "metadata": {
        "id": "GXi2K2UmNLDb"
      },
      "execution_count": null,
      "outputs": []
    },
    {
      "cell_type": "code",
      "source": [
        "plt.figure(figsize=(14, 7))\n",
        "sns.histplot(data=df3, x=\"victim_age\", hue=\"victim_sex\", palette=colores_personalizados)\n",
        "plt.title(\"Histograma de muertes por edad y genero\")\n",
        "plt.show()"
      ],
      "metadata": {
        "colab": {
          "base_uri": "https://localhost:8080/",
          "height": 635
        },
        "id": "ymYgLEMAiDbl",
        "outputId": "55e717ec-a3b7-4f17-8079-15fe9bf3b204"
      },
      "execution_count": null,
      "outputs": [
        {
          "output_type": "display_data",
          "data": {
            "text/plain": [
              "<Figure size 1400x700 with 1 Axes>"
            ],
            "image/png": "[encoded data removed]"
          },
          "metadata": {}
        }
      ]
    },
    {
      "cell_type": "markdown",
      "source": [
        "**Interpretación**: En relación al género y edad, la mayoria de las victimas son de género masculino y el rango etario es comprendido desde los tempranos 20"
      ],
      "metadata": {
        "id": "DN0wNP5G3ra_"
      }
    },
    {
      "cell_type": "markdown",
      "source": [
        "**Muertes por raza y genero**"
      ],
      "metadata": {
        "id": "CjRpHxEGRx3e"
      }
    },
    {
      "cell_type": "code",
      "source": [
        "plt.figure(figsize=(12, 5))\n",
        "sns.histplot(data=df3, x=\"victim_race\", hue=\"victim_sex\", palette=colores_personalizados)\n",
        "plt.title(\"Histograma de muertes por raza y genero\")\n",
        "plt.show()"
      ],
      "metadata": {
        "colab": {
          "base_uri": "https://localhost:8080/",
          "height": 487
        },
        "id": "t56CXhXWCc9G",
        "outputId": "7e87fc3b-55ff-44b6-d619-472332a21ad4"
      },
      "execution_count": null,
      "outputs": [
        {
          "output_type": "display_data",
          "data": {
            "text/plain": [
              "<Figure size 1200x500 with 1 Axes>"
            ],
            "image/png": "[encoded data removed]"
          },
          "metadata": {}
        }
      ]
    },
    {
      "cell_type": "markdown",
      "source": [
        "**Interpretación**: En cuanto a la raza la predominante de las victimas en ambos sexos es \"Black\" y en su mayoria han sido del género masculino"
      ],
      "metadata": {
        "id": "nPyabcdC38U-"
      }
    },
    {
      "cell_type": "markdown",
      "source": [
        "\n",
        "**Reducir dimensionalidad:**"
      ],
      "metadata": {
        "id": "YjmByBHGLqKc"
      }
    },
    {
      "cell_type": "markdown",
      "source": [
        "**Analisis Multivariado**"
      ],
      "metadata": {
        "id": "L7_uXWCfSXgT"
      }
    },
    {
      "cell_type": "markdown",
      "source": [
        "**Análisis de Correlación** entre las siguientes variables: Edad de las victimas, año y mes"
      ],
      "metadata": {
        "id": "XyQSBaXsUz4s"
      }
    },
    {
      "cell_type": "code",
      "source": [
        "correlation_matrix = df3[['victim_age', 'año', 'mes']].corr()"
      ],
      "metadata": {
        "id": "q_acO5NKCdAC"
      },
      "execution_count": null,
      "outputs": []
    },
    {
      "cell_type": "code",
      "source": [
        "plt.figure(figsize=(6, 4))\n",
        "sns.heatmap(correlation_matrix, annot=True, cmap='coolwarm', fmt=\".2f\")\n",
        "plt.title('Mapa de Calor de Correlación')\n",
        "plt.show()"
      ],
      "metadata": {
        "colab": {
          "base_uri": "https://localhost:8080/",
          "height": 391
        },
        "id": "Eozn_2yRCdCp",
        "outputId": "b74f7bdb-fdb4-470f-fbf1-b0ea3f4928de"
      },
      "execution_count": null,
      "outputs": [
        {
          "output_type": "display_data",
          "data": {
            "text/plain": [
              "<Figure size 600x400 with 2 Axes>"
            ],
            "image/png": "[encoded data removed]"
          },
          "metadata": {}
        }
      ]
    },
    {
      "cell_type": "markdown",
      "source": [
        "**Interpretación:** No existe una relación entre la edad de las victimas y el año o mes en que se perpetran los homicidios"
      ],
      "metadata": {
        "id": "lGFk-O3RXAUe"
      }
    },
    {
      "cell_type": "markdown",
      "source": [
        "**Análisis de Regresión Multivariado:**"
      ],
      "metadata": {
        "id": "d-epMXFTVIN_"
      }
    },
    {
      "cell_type": "markdown",
      "source": [
        "Análisis de Regresión Multivariado:  análisis de regresión para entender cómo las variables independientes (predictoras) afectan a una variable dependiente (objetivo). Por ejemplo,  realizar una regresión para predecir la edad de la víctima en función de otras variables como el género, la raza, etc."
      ],
      "metadata": {
        "id": "Y3jJMs6O7l8v"
      }
    },
    {
      "cell_type": "markdown",
      "source": [
        "**Predicción de edad de las victimas en relación de otras variables como el género y la raza:**"
      ],
      "metadata": {
        "id": "KE-GvnHiXVsE"
      }
    },
    {
      "cell_type": "code",
      "source": [
        "X_encoded = pd.get_dummies(df3, columns=['victim_sex', 'victim_race'], drop_first=True)"
      ],
      "metadata": {
        "id": "BkdHuB66zo3J"
      },
      "execution_count": null,
      "outputs": []
    },
    {
      "cell_type": "code",
      "source": [
        "X = X_encoded[['victim_sex_Male', 'victim_sex_Unknown', 'victim_race_Black','victim_race_Hispanic','victim_race_Other','victim_race_White']]\n",
        "y = df3['victim_age']"
      ],
      "metadata": {
        "id": "CXFv-FPN0vAL"
      },
      "execution_count": null,
      "outputs": []
    },
    {
      "cell_type": "code",
      "source": [
        "X_train, X_test, y_train, y_test = train_test_split(X, y, test_size=0.2, random_state=42)"
      ],
      "metadata": {
        "id": "mfQ4_ROh0zC6"
      },
      "execution_count": null,
      "outputs": []
    },
    {
      "cell_type": "code",
      "source": [
        "modelo = LinearRegression()"
      ],
      "metadata": {
        "id": "6PGxcp7o1gNw"
      },
      "execution_count": null,
      "outputs": []
    },
    {
      "cell_type": "code",
      "source": [
        "X_encoded.info()"
      ],
      "metadata": {
        "colab": {
          "base_uri": "https://localhost:8080/"
        },
        "id": "NgO0S7lL6hqY",
        "outputId": "3b6a6aa9-4596-4e8c-9aa3-a2f892c2df10"
      },
      "execution_count": null,
      "outputs": [
        {
          "output_type": "stream",
          "name": "stdout",
          "text": [
            "<class 'pandas.core.frame.DataFrame'>\n",
            "RangeIndex: 49180 entries, 0 to 49179\n",
            "Data columns (total 19 columns):\n",
            " #   Column                Non-Null Count  Dtype         \n",
            "---  ------                --------------  -----         \n",
            " 0   uid                   49180 non-null  int64         \n",
            " 1   reported_date         49180 non-null  datetime64[ns]\n",
            " 2   victim_last           49179 non-null  object        \n",
            " 3   victim_first          49180 non-null  object        \n",
            " 4   victim_age            49180 non-null  int64         \n",
            " 5   city                  49180 non-null  object        \n",
            " 6   state                 49180 non-null  object        \n",
            " 7   lat                   49122 non-null  object        \n",
            " 8   lon                   49122 non-null  object        \n",
            " 9   disposition           49180 non-null  object        \n",
            " 10  año                   49180 non-null  int64         \n",
            " 11  mes                   49180 non-null  int64         \n",
            " 12  victim_sex_Male       49180 non-null  uint8         \n",
            " 13  victim_sex_Unknown    49180 non-null  uint8         \n",
            " 14  victim_race_Black     49180 non-null  uint8         \n",
            " 15  victim_race_Hispanic  49180 non-null  uint8         \n",
            " 16  victim_race_Other     49180 non-null  uint8         \n",
            " 17  victim_race_Unknown   49180 non-null  uint8         \n",
            " 18  victim_race_White     49180 non-null  uint8         \n",
            "dtypes: datetime64[ns](1), int64(4), object(7), uint8(7)\n",
            "memory usage: 4.8+ MB\n"
          ]
        }
      ]
    },
    {
      "cell_type": "code",
      "source": [
        "modelo.fit(X_train, y_train)"
      ],
      "metadata": {
        "colab": {
          "base_uri": "https://localhost:8080/",
          "height": 74
        },
        "id": "nGxqvlf41kbL",
        "outputId": "cc05573b-1f04-46dc-deb3-6b8de275a065"
      },
      "execution_count": null,
      "outputs": [
        {
          "output_type": "execute_result",
          "data": {
            "text/plain": [
              "LinearRegression()"
            ],
            "text/html": [
              "<style>#sk-container-id-1 {color: black;background-color: white;}#sk-container-id-1 pre{padding: 0;}#sk-container-id-1 div.sk-toggleable {background-color: white;}#sk-container-id-1 label.sk-toggleable__label {cursor: pointer;display: block;width: 100%;margin-bottom: 0;padding: 0.3em;box-sizing: border-box;text-align: center;}#sk-container-id-1 label.sk-toggleable__label-arrow:before {content: \"▸\";float: left;margin-right: 0.25em;color: #696969;}#sk-container-id-1 label.sk-toggleable__label-arrow:hover:before {color: black;}#sk-container-id-1 div.sk-estimator:hover label.sk-toggleable__label-arrow:before {color: black;}#sk-container-id-1 div.sk-toggleable__content {max-height: 0;max-width: 0;overflow: hidden;text-align: left;background-color: #f0f8ff;}#sk-container-id-1 div.sk-toggleable__content pre {margin: 0.2em;color: black;border-radius: 0.25em;background-color: #f0f8ff;}#sk-container-id-1 input.sk-toggleable__control:checked~div.sk-toggleable__content {max-height: 200px;max-width: 100%;overflow: auto;}#sk-container-id-1 input.sk-toggleable__control:checked~label.sk-toggleable__label-arrow:before {content: \"▾\";}#sk-container-id-1 div.sk-estimator input.sk-toggleable__control:checked~label.sk-toggleable__label {background-color: #d4ebff;}#sk-container-id-1 div.sk-label input.sk-toggleable__control:checked~label.sk-toggleable__label {background-color: #d4ebff;}#sk-container-id-1 input.sk-hidden--visually {border: 0;clip: rect(1px 1px 1px 1px);clip: rect(1px, 1px, 1px, 1px);height: 1px;margin: -1px;overflow: hidden;padding: 0;position: absolute;width: 1px;}#sk-container-id-1 div.sk-estimator {font-family: monospace;background-color: #f0f8ff;border: 1px dotted black;border-radius: 0.25em;box-sizing: border-box;margin-bottom: 0.5em;}#sk-container-id-1 div.sk-estimator:hover {background-color: #d4ebff;}#sk-container-id-1 div.sk-parallel-item::after {content: \"\";width: 100%;border-bottom: 1px solid gray;flex-grow: 1;}#sk-container-id-1 div.sk-label:hover label.sk-toggleable__label {background-color: #d4ebff;}#sk-container-id-1 div.sk-serial::before {content: \"\";position: absolute;border-left: 1px solid gray;box-sizing: border-box;top: 0;bottom: 0;left: 50%;z-index: 0;}#sk-container-id-1 div.sk-serial {display: flex;flex-direction: column;align-items: center;background-color: white;padding-right: 0.2em;padding-left: 0.2em;position: relative;}#sk-container-id-1 div.sk-item {position: relative;z-index: 1;}#sk-container-id-1 div.sk-parallel {display: flex;align-items: stretch;justify-content: center;background-color: white;position: relative;}#sk-container-id-1 div.sk-item::before, #sk-container-id-1 div.sk-parallel-item::before {content: \"\";position: absolute;border-left: 1px solid gray;box-sizing: border-box;top: 0;bottom: 0;left: 50%;z-index: -1;}#sk-container-id-1 div.sk-parallel-item {display: flex;flex-direction: column;z-index: 1;position: relative;background-color: white;}#sk-container-id-1 div.sk-parallel-item:first-child::after {align-self: flex-end;width: 50%;}#sk-container-id-1 div.sk-parallel-item:last-child::after {align-self: flex-start;width: 50%;}#sk-container-id-1 div.sk-parallel-item:only-child::after {width: 0;}#sk-container-id-1 div.sk-dashed-wrapped {border: 1px dashed gray;margin: 0 0.4em 0.5em 0.4em;box-sizing: border-box;padding-bottom: 0.4em;background-color: white;}#sk-container-id-1 div.sk-label label {font-family: monospace;font-weight: bold;display: inline-block;line-height: 1.2em;}#sk-container-id-1 div.sk-label-container {text-align: center;}#sk-container-id-1 div.sk-container {/* jupyter's `normalize.less` sets `[hidden] { display: none; }` but bootstrap.min.css set `[hidden] { display: none !important; }` so we also need the `!important` here to be able to override the default hidden behavior on the sphinx rendered scikit-learn.org. See: https://github.com/scikit-learn/scikit-learn/issues/21755 */display: inline-block !important;position: relative;}#sk-container-id-1 div.sk-text-repr-fallback {display: none;}</style><div id=\"sk-container-id-1\" class=\"sk-top-container\"><div class=\"sk-text-repr-fallback\"><pre>LinearRegression()</pre><b>In a Jupyter environment, please rerun this cell to show the HTML representation or trust the notebook. <br />On GitHub, the HTML representation is unable to render, please try loading this page with nbviewer.org.</b></div><div class=\"sk-container\" hidden><div class=\"sk-item\"><div class=\"sk-estimator sk-toggleable\"><input class=\"sk-toggleable__control sk-hidden--visually\" id=\"sk-estimator-id-1\" type=\"checkbox\" checked><label for=\"sk-estimator-id-1\" class=\"sk-toggleable__label sk-toggleable__label-arrow\">LinearRegression</label><div class=\"sk-toggleable__content\"><pre>LinearRegression()</pre></div></div></div></div></div>"
            ]
          },
          "metadata": {},
          "execution_count": 45
        }
      ]
    },
    {
      "cell_type": "code",
      "source": [
        "y_pred = modelo.predict(X_test)"
      ],
      "metadata": {
        "id": "h8bAp5GiDon4"
      },
      "execution_count": null,
      "outputs": []
    },
    {
      "cell_type": "code",
      "source": [
        "plt.scatter(y_test, y_pred, color='lightblue', label='Actual vs. Predicted')"
      ],
      "metadata": {
        "colab": {
          "base_uri": "https://localhost:8080/",
          "height": 447
        },
        "id": "AVXCQy5pVhCi",
        "outputId": "fe764644-03e9-47fc-9bf7-a3852594b282"
      },
      "execution_count": null,
      "outputs": [
        {
          "output_type": "execute_result",
          "data": {
            "text/plain": [
              "<matplotlib.collections.PathCollection at 0x7a795698c8e0>"
            ]
          },
          "metadata": {},
          "execution_count": 47
        },
        {
          "output_type": "display_data",
          "data": {
            "text/plain": [
              "<Figure size 640x480 with 1 Axes>"
            ],
            "image/png": "[encoded data removed]"
          },
          "metadata": {}
        }
      ]
    },
    {
      "cell_type": "code",
      "source": [
        "mse = mean_squared_error(y_test, y_pred)\n",
        "r2 = r2_score(y_test, y_pred)"
      ],
      "metadata": {
        "id": "gJQB0D8qDpfm"
      },
      "execution_count": null,
      "outputs": []
    },
    {
      "cell_type": "markdown",
      "source": [
        "**Métricas de rendimiento**"
      ],
      "metadata": {
        "id": "LNTz5zBGFzC_"
      }
    },
    {
      "cell_type": "code",
      "source": [
        "print(\"Mean Squared Error (MSE):\", mse)\n",
        "print(\"Coeficiente de determinación (R^2):\", r2)"
      ],
      "metadata": {
        "colab": {
          "base_uri": "https://localhost:8080/"
        },
        "id": "RyU3RqK9DpjD",
        "outputId": "bf7bd4a7-f056-4eda-d94b-0739347370bf"
      },
      "execution_count": null,
      "outputs": [
        {
          "output_type": "stream",
          "name": "stdout",
          "text": [
            "Mean Squared Error (MSE): 199.54467937627038\n",
            "Coeficiente de determinación (R^2): 0.0542288284646939\n"
          ]
        }
      ]
    },
    {
      "cell_type": "markdown",
      "source": [
        "**Métodos de reducción de la dimensionalidad lineal**"
      ],
      "metadata": {
        "id": "xBfN6YRZ00KF"
      }
    },
    {
      "cell_type": "markdown",
      "source": [
        "**PCA**"
      ],
      "metadata": {
        "id": "9WbOfhEkZIw3"
      }
    },
    {
      "cell_type": "markdown",
      "source": [
        "Variables: Edad, año y mes"
      ],
      "metadata": {
        "id": "RRAFyJmfbm9K"
      }
    },
    {
      "cell_type": "code",
      "source": [
        "variables_numericas = df3[['victim_age', 'año', 'mes']]"
      ],
      "metadata": {
        "id": "S-ZJtC76ao2o"
      },
      "execution_count": null,
      "outputs": []
    },
    {
      "cell_type": "code",
      "source": [
        "scaler = StandardScaler()\n",
        "variables_numericas_estandarizadas = scaler.fit_transform(variables_numericas)"
      ],
      "metadata": {
        "id": "C9Taiyyjaxhu"
      },
      "execution_count": null,
      "outputs": []
    },
    {
      "cell_type": "code",
      "source": [
        "n_componentes = 2\n",
        "pca = PCA(n_components=n_componentes)\n",
        "componentes_principales = pca.fit_transform(variables_numericas_estandarizadas)\n"
      ],
      "metadata": {
        "id": "M77sZ5GYa2uA"
      },
      "execution_count": null,
      "outputs": []
    },
    {
      "cell_type": "code",
      "source": [
        "print(\"Componentes principales:\", pca.components_)\n",
        "print(\"Varianza explicada por cada componente:\", pca.explained_variance_ratio_)"
      ],
      "metadata": {
        "colab": {
          "base_uri": "https://localhost:8080/"
        },
        "id": "K5JbL-5ta-3m",
        "outputId": "c9046d36-e280-45b2-d0f4-f9f6b979a7ae"
      },
      "execution_count": null,
      "outputs": [
        {
          "output_type": "stream",
          "name": "stdout",
          "text": [
            "Componentes principales: [[ 0.69176913  0.71176655 -0.12183532]\n",
            " [ 0.24057515 -0.06807939  0.96824005]]\n",
            "Varianza explicada por cada componente: [0.34304123 0.33369144]\n"
          ]
        }
      ]
    },
    {
      "cell_type": "code",
      "source": [
        "import matplotlib.pyplot as plt\n",
        "plt.scatter(componentes_principales[:, 0], componentes_principales[:, 1], color= 'lightblue')\n",
        "plt.xlabel('Componente Principal 1')\n",
        "plt.ylabel('Componente Principal 2')\n",
        "plt.title('PCA de tus datos')\n",
        "plt.show()"
      ],
      "metadata": {
        "colab": {
          "base_uri": "https://localhost:8080/",
          "height": 472
        },
        "id": "ABC5vAa-bA-M",
        "outputId": "189b3b4d-4616-4054-84ec-671a8ce9d78f"
      },
      "execution_count": null,
      "outputs": [
        {
          "output_type": "display_data",
          "data": {
            "text/plain": [
              "<Figure size 640x480 with 1 Axes>"
            ],
            "image/png": "[encoded data removed]"
          },
          "metadata": {}
        }
      ]
    },
    {
      "cell_type": "markdown",
      "source": [
        "**Testeo**"
      ],
      "metadata": {
        "id": "VQXWJ8wNxKfs"
      }
    },
    {
      "cell_type": "code",
      "source": [
        "from sklearn.model_selection import train_test_split"
      ],
      "metadata": {
        "id": "b99cLwOhwQ8b"
      },
      "execution_count": null,
      "outputs": []
    },
    {
      "cell_type": "code",
      "source": [
        "from sklearn.linear_model import LogisticRegression"
      ],
      "metadata": {
        "id": "ZaZ59KOywW40"
      },
      "execution_count": null,
      "outputs": []
    },
    {
      "cell_type": "code",
      "source": [
        "X_train, X_test, y_train, y_test = train_test_split(componentes_principales, y, test_size=0.2, random_state=42)"
      ],
      "metadata": {
        "id": "cmIM47oFwdfc"
      },
      "execution_count": null,
      "outputs": []
    },
    {
      "cell_type": "code",
      "source": [
        "model = LogisticRegression()"
      ],
      "metadata": {
        "id": "HIpr56cMwixz"
      },
      "execution_count": null,
      "outputs": []
    },
    {
      "cell_type": "code",
      "source": [
        "model.fit(X_train, y_train)"
      ],
      "metadata": {
        "colab": {
          "base_uri": "https://localhost:8080/",
          "height": 213
        },
        "id": "gDx_2NFMwjt5",
        "outputId": "6963d6cf-f440-4541-a43f-79820ea278f2"
      },
      "execution_count": null,
      "outputs": [
        {
          "output_type": "stream",
          "name": "stderr",
          "text": [
            "/usr/local/lib/python3.10/dist-packages/sklearn/linear_model/_logistic.py:458: ConvergenceWarning: lbfgs failed to converge (status=1):\n",
            "STOP: TOTAL NO. of ITERATIONS REACHED LIMIT.\n",
            "\n",
            "Increase the number of iterations (max_iter) or scale the data as shown in:\n",
            "    https://scikit-learn.org/stable/modules/preprocessing.html\n",
            "Please also refer to the documentation for alternative solver options:\n",
            "    https://scikit-learn.org/stable/modules/linear_model.html#logistic-regression\n",
            "  n_iter_i = _check_optimize_result(\n"
          ]
        },
        {
          "output_type": "execute_result",
          "data": {
            "text/plain": [
              "LogisticRegression()"
            ],
            "text/html": [
              "<style>#sk-container-id-2 {color: black;background-color: white;}#sk-container-id-2 pre{padding: 0;}#sk-container-id-2 div.sk-toggleable {background-color: white;}#sk-container-id-2 label.sk-toggleable__label {cursor: pointer;display: block;width: 100%;margin-bottom: 0;padding: 0.3em;box-sizing: border-box;text-align: center;}#sk-container-id-2 label.sk-toggleable__label-arrow:before {content: \"▸\";float: left;margin-right: 0.25em;color: #696969;}#sk-container-id-2 label.sk-toggleable__label-arrow:hover:before {color: black;}#sk-container-id-2 div.sk-estimator:hover label.sk-toggleable__label-arrow:before {color: black;}#sk-container-id-2 div.sk-toggleable__content {max-height: 0;max-width: 0;overflow: hidden;text-align: left;background-color: #f0f8ff;}#sk-container-id-2 div.sk-toggleable__content pre {margin: 0.2em;color: black;border-radius: 0.25em;background-color: #f0f8ff;}#sk-container-id-2 input.sk-toggleable__control:checked~div.sk-toggleable__content {max-height: 200px;max-width: 100%;overflow: auto;}#sk-container-id-2 input.sk-toggleable__control:checked~label.sk-toggleable__label-arrow:before {content: \"▾\";}#sk-container-id-2 div.sk-estimator input.sk-toggleable__control:checked~label.sk-toggleable__label {background-color: #d4ebff;}#sk-container-id-2 div.sk-label input.sk-toggleable__control:checked~label.sk-toggleable__label {background-color: #d4ebff;}#sk-container-id-2 input.sk-hidden--visually {border: 0;clip: rect(1px 1px 1px 1px);clip: rect(1px, 1px, 1px, 1px);height: 1px;margin: -1px;overflow: hidden;padding: 0;position: absolute;width: 1px;}#sk-container-id-2 div.sk-estimator {font-family: monospace;background-color: #f0f8ff;border: 1px dotted black;border-radius: 0.25em;box-sizing: border-box;margin-bottom: 0.5em;}#sk-container-id-2 div.sk-estimator:hover {background-color: #d4ebff;}#sk-container-id-2 div.sk-parallel-item::after {content: \"\";width: 100%;border-bottom: 1px solid gray;flex-grow: 1;}#sk-container-id-2 div.sk-label:hover label.sk-toggleable__label {background-color: #d4ebff;}#sk-container-id-2 div.sk-serial::before {content: \"\";position: absolute;border-left: 1px solid gray;box-sizing: border-box;top: 0;bottom: 0;left: 50%;z-index: 0;}#sk-container-id-2 div.sk-serial {display: flex;flex-direction: column;align-items: center;background-color: white;padding-right: 0.2em;padding-left: 0.2em;position: relative;}#sk-container-id-2 div.sk-item {position: relative;z-index: 1;}#sk-container-id-2 div.sk-parallel {display: flex;align-items: stretch;justify-content: center;background-color: white;position: relative;}#sk-container-id-2 div.sk-item::before, #sk-container-id-2 div.sk-parallel-item::before {content: \"\";position: absolute;border-left: 1px solid gray;box-sizing: border-box;top: 0;bottom: 0;left: 50%;z-index: -1;}#sk-container-id-2 div.sk-parallel-item {display: flex;flex-direction: column;z-index: 1;position: relative;background-color: white;}#sk-container-id-2 div.sk-parallel-item:first-child::after {align-self: flex-end;width: 50%;}#sk-container-id-2 div.sk-parallel-item:last-child::after {align-self: flex-start;width: 50%;}#sk-container-id-2 div.sk-parallel-item:only-child::after {width: 0;}#sk-container-id-2 div.sk-dashed-wrapped {border: 1px dashed gray;margin: 0 0.4em 0.5em 0.4em;box-sizing: border-box;padding-bottom: 0.4em;background-color: white;}#sk-container-id-2 div.sk-label label {font-family: monospace;font-weight: bold;display: inline-block;line-height: 1.2em;}#sk-container-id-2 div.sk-label-container {text-align: center;}#sk-container-id-2 div.sk-container {/* jupyter's `normalize.less` sets `[hidden] { display: none; }` but bootstrap.min.css set `[hidden] { display: none !important; }` so we also need the `!important` here to be able to override the default hidden behavior on the sphinx rendered scikit-learn.org. See: https://github.com/scikit-learn/scikit-learn/issues/21755 */display: inline-block !important;position: relative;}#sk-container-id-2 div.sk-text-repr-fallback {display: none;}</style><div id=\"sk-container-id-2\" class=\"sk-top-container\"><div class=\"sk-text-repr-fallback\"><pre>LogisticRegression()</pre><b>In a Jupyter environment, please rerun this cell to show the HTML representation or trust the notebook. <br />On GitHub, the HTML representation is unable to render, please try loading this page with nbviewer.org.</b></div><div class=\"sk-container\" hidden><div class=\"sk-item\"><div class=\"sk-estimator sk-toggleable\"><input class=\"sk-toggleable__control sk-hidden--visually\" id=\"sk-estimator-id-2\" type=\"checkbox\" checked><label for=\"sk-estimator-id-2\" class=\"sk-toggleable__label sk-toggleable__label-arrow\">LogisticRegression</label><div class=\"sk-toggleable__content\"><pre>LogisticRegression()</pre></div></div></div></div></div>"
            ]
          },
          "metadata": {},
          "execution_count": 63
        }
      ]
    },
    {
      "cell_type": "code",
      "source": [
        "from sklearn.metrics import accuracy_score, classification_report\n"
      ],
      "metadata": {
        "id": "wY8v-GgQwxTI"
      },
      "execution_count": null,
      "outputs": []
    },
    {
      "cell_type": "code",
      "source": [
        "y_pred = model.predict(X_test)"
      ],
      "metadata": {
        "id": "AYlFBEbVw0zZ"
      },
      "execution_count": null,
      "outputs": []
    },
    {
      "cell_type": "code",
      "source": [
        "accuracy = accuracy_score(y_test, y_pred)\n",
        "report = classification_report(y_test, y_pred)"
      ],
      "metadata": {
        "colab": {
          "base_uri": "https://localhost:8080/"
        },
        "id": "Aslr1modw0_y",
        "outputId": "6d207ceb-114a-43f7-f6d2-2bf9f42e33ac"
      },
      "execution_count": null,
      "outputs": [
        {
          "output_type": "stream",
          "name": "stderr",
          "text": [
            "/usr/local/lib/python3.10/dist-packages/sklearn/metrics/_classification.py:1344: UndefinedMetricWarning: Precision and F-score are ill-defined and being set to 0.0 in labels with no predicted samples. Use `zero_division` parameter to control this behavior.\n",
            "  _warn_prf(average, modifier, msg_start, len(result))\n",
            "/usr/local/lib/python3.10/dist-packages/sklearn/metrics/_classification.py:1344: UndefinedMetricWarning: Precision and F-score are ill-defined and being set to 0.0 in labels with no predicted samples. Use `zero_division` parameter to control this behavior.\n",
            "  _warn_prf(average, modifier, msg_start, len(result))\n",
            "/usr/local/lib/python3.10/dist-packages/sklearn/metrics/_classification.py:1344: UndefinedMetricWarning: Precision and F-score are ill-defined and being set to 0.0 in labels with no predicted samples. Use `zero_division` parameter to control this behavior.\n",
            "  _warn_prf(average, modifier, msg_start, len(result))\n"
          ]
        }
      ]
    },
    {
      "cell_type": "code",
      "source": [
        "print(f'Accuracy: {accuracy}')\n",
        "print('Classification Report:\\n', report)"
      ],
      "metadata": {
        "colab": {
          "base_uri": "https://localhost:8080/"
        },
        "id": "rvO7gW3fw7S5",
        "outputId": "5ea6496a-4f08-4c0e-c906-dcae562c655c"
      },
      "execution_count": null,
      "outputs": [
        {
          "output_type": "stream",
          "name": "stdout",
          "text": [
            "Accuracy: 0.053985359902399346\n",
            "Classification Report:\n",
            "               precision    recall  f1-score   support\n",
            "\n",
            "           0       0.10      0.17      0.12        72\n",
            "           1       0.40      0.40      0.40        72\n",
            "           2       0.00      0.00      0.00        39\n",
            "           3       0.00      0.00      0.00        27\n",
            "           4       0.00      0.00      0.00        17\n",
            "           5       0.00      0.00      0.00         8\n",
            "           6       0.00      0.00      0.00         7\n",
            "           7       0.00      0.00      0.00        12\n",
            "           8       0.00      0.00      0.00         4\n",
            "           9       0.00      0.00      0.00         9\n",
            "          10       0.00      0.00      0.00         5\n",
            "          11       0.00      0.00      0.00         5\n",
            "          12       0.00      0.00      0.00        14\n",
            "          13       0.00      0.00      0.00        31\n",
            "          14       0.00      0.00      0.00        37\n",
            "          15       0.00      0.00      0.00        95\n",
            "          16       0.00      0.00      0.00       164\n",
            "          17       0.00      0.00      0.00       230\n",
            "          18       0.00      0.00      0.00       323\n",
            "          19       0.08      0.27      0.12       390\n",
            "          20       0.00      0.00      0.00       376\n",
            "          21       0.09      0.16      0.11       420\n",
            "          22       0.05      0.18      0.07       394\n",
            "          23       0.05      0.11      0.07       419\n",
            "          24       0.05      0.02      0.03       379\n",
            "          25       0.05      0.17      0.08       370\n",
            "          26       0.04      0.02      0.02       363\n",
            "          27       0.00      0.00      0.00       354\n",
            "          28       0.02      0.00      0.01       300\n",
            "          29       0.02      0.03      0.02       320\n",
            "          30       0.05      0.02      0.03       302\n",
            "          31       0.00      0.00      0.00       231\n",
            "          32       0.05      0.06      0.05       225\n",
            "          33       0.05      0.00      0.01       223\n",
            "          34       0.00      0.00      0.00       227\n",
            "          35       0.02      0.04      0.03       194\n",
            "          36       0.03      0.07      0.04       173\n",
            "          37       0.00      0.00      0.00       159\n",
            "          38       0.00      0.00      0.00       176\n",
            "          39       0.00      0.00      0.00       129\n",
            "          40       0.00      0.00      0.00       146\n",
            "          41       0.02      0.05      0.03       124\n",
            "          42       0.00      0.00      0.00       141\n",
            "          43       0.00      0.00      0.00       134\n",
            "          44       0.00      0.00      0.00       113\n",
            "          45       0.04      0.01      0.01       124\n",
            "          46       0.00      0.00      0.00       139\n",
            "          47       0.00      0.00      0.00       124\n",
            "          48       0.00      0.00      0.00       104\n",
            "          49       0.00      0.00      0.00       104\n",
            "          50       0.04      0.37      0.08       101\n",
            "          51       0.00      0.00      0.00       113\n",
            "          52       0.11      0.07      0.09        86\n",
            "          53       0.00      0.00      0.00        85\n",
            "          54       0.06      0.01      0.02        79\n",
            "          55       0.00      0.00      0.00        85\n",
            "          56       0.05      0.14      0.07        70\n",
            "          57       0.00      0.00      0.00        62\n",
            "          58       0.00      0.00      0.00        54\n",
            "          59       0.00      0.00      0.00        52\n",
            "          60       0.03      0.10      0.05        48\n",
            "          61       0.00      0.00      0.00        35\n",
            "          62       0.00      0.00      0.00        42\n",
            "          63       0.00      0.00      0.00        36\n",
            "          64       0.00      0.00      0.00        35\n",
            "          65       0.00      0.00      0.00        30\n",
            "          66       0.00      0.00      0.00        28\n",
            "          67       0.12      0.25      0.17        36\n",
            "          68       0.00      0.00      0.00        24\n",
            "          69       0.00      0.00      0.00        20\n",
            "          70       0.00      0.00      0.00        17\n",
            "          71       0.00      0.00      0.00        18\n",
            "          72       0.00      0.00      0.00        14\n",
            "          73       0.00      0.00      0.00        14\n",
            "          74       0.00      0.00      0.00         7\n",
            "          75       0.00      0.00      0.00         7\n",
            "          76       0.00      0.00      0.00         9\n",
            "          77       0.00      0.00      0.00         8\n",
            "          78       0.00      0.00      0.00        11\n",
            "          79       0.00      0.00      0.00         4\n",
            "          80       0.00      0.00      0.00         5\n",
            "          81       0.00      0.00      0.00         9\n",
            "          82       0.00      0.00      0.00         4\n",
            "          83       0.03      0.33      0.05         3\n",
            "          84       0.00      0.00      0.00         5\n",
            "          85       0.00      0.00      0.00         6\n",
            "          86       0.00      0.00      0.00         5\n",
            "          87       0.00      0.00      0.00         4\n",
            "          88       0.00      0.00      0.00         3\n",
            "          89       0.00      0.00      0.00         1\n",
            "          90       0.00      0.00      0.00         7\n",
            "          91       0.00      0.00      0.00         4\n",
            "          92       0.00      0.00      0.00         1\n",
            "          95       0.00      0.00      0.00         1\n",
            "\n",
            "    accuracy                           0.05      9836\n",
            "   macro avg       0.02      0.03      0.02      9836\n",
            "weighted avg       0.03      0.05      0.03      9836\n",
            "\n"
          ]
        }
      ]
    },
    {
      "cell_type": "markdown",
      "source": [
        "**Conclusión en base a los datos obtenidos**\n",
        "\n",
        "No existe una relación entre las variables para poder predecir la edad de las victimas.\n"
      ],
      "metadata": {
        "id": "EeQHyy972fkO"
      }
    }
  ]
}